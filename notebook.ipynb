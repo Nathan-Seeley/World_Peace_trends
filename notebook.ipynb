{
 "cells": [
  {
   "attachments": {},
   "cell_type": "markdown",
   "metadata": {},
   "source": [
    "### IMPORT PANDAS\n"
   ]
  },
  {
   "cell_type": "code",
   "execution_count": 51,
   "metadata": {},
   "outputs": [],
   "source": [
    "import pandas as pd"
   ]
  },
  {
   "attachments": {},
   "cell_type": "markdown",
   "metadata": {},
   "source": [
    "### Import and store `peace_index` file into the variable df standing for dataframe"
   ]
  },
  {
   "cell_type": "code",
   "execution_count": 52,
   "metadata": {},
   "outputs": [
    {
     "data": {
      "text/html": [
       "<div>\n",
       "<style scoped>\n",
       "    .dataframe tbody tr th:only-of-type {\n",
       "        vertical-align: middle;\n",
       "    }\n",
       "\n",
       "    .dataframe tbody tr th {\n",
       "        vertical-align: top;\n",
       "    }\n",
       "\n",
       "    .dataframe thead th {\n",
       "        text-align: right;\n",
       "    }\n",
       "</style>\n",
       "<table border=\"1\" class=\"dataframe\">\n",
       "  <thead>\n",
       "    <tr style=\"text-align: right;\">\n",
       "      <th></th>\n",
       "      <th>Test_1</th>\n",
       "      <th>Test_2</th>\n",
       "      <th>Test_3</th>\n",
       "      <th>Test_4</th>\n",
       "      <th>Test_5</th>\n",
       "      <th>Test_6</th>\n",
       "      <th>Test_7</th>\n",
       "      <th>Test_8</th>\n",
       "      <th>Test_9</th>\n",
       "      <th>Test_10</th>\n",
       "      <th>Test_11</th>\n",
       "      <th>Test_12</th>\n",
       "    </tr>\n",
       "    <tr>\n",
       "      <th>Student_ID</th>\n",
       "      <th></th>\n",
       "      <th></th>\n",
       "      <th></th>\n",
       "      <th></th>\n",
       "      <th></th>\n",
       "      <th></th>\n",
       "      <th></th>\n",
       "      <th></th>\n",
       "      <th></th>\n",
       "      <th></th>\n",
       "      <th></th>\n",
       "      <th></th>\n",
       "    </tr>\n",
       "  </thead>\n",
       "  <tbody>\n",
       "    <tr>\n",
       "      <th>22000</th>\n",
       "      <td>78</td>\n",
       "      <td>87</td>\n",
       "      <td>91</td>\n",
       "      <td>91</td>\n",
       "      <td>88</td>\n",
       "      <td>98</td>\n",
       "      <td>94</td>\n",
       "      <td>100</td>\n",
       "      <td>100</td>\n",
       "      <td>100</td>\n",
       "      <td>100</td>\n",
       "      <td>93</td>\n",
       "    </tr>\n",
       "    <tr>\n",
       "      <th>22001</th>\n",
       "      <td>79</td>\n",
       "      <td>71</td>\n",
       "      <td>81</td>\n",
       "      <td>72</td>\n",
       "      <td>73</td>\n",
       "      <td>68</td>\n",
       "      <td>59</td>\n",
       "      <td>69</td>\n",
       "      <td>59</td>\n",
       "      <td>60</td>\n",
       "      <td>61</td>\n",
       "      <td>67</td>\n",
       "    </tr>\n",
       "    <tr>\n",
       "      <th>22002</th>\n",
       "      <td>66</td>\n",
       "      <td>65</td>\n",
       "      <td>70</td>\n",
       "      <td>74</td>\n",
       "      <td>78</td>\n",
       "      <td>86</td>\n",
       "      <td>87</td>\n",
       "      <td>96</td>\n",
       "      <td>88</td>\n",
       "      <td>82</td>\n",
       "      <td>90</td>\n",
       "      <td>86</td>\n",
       "    </tr>\n",
       "    <tr>\n",
       "      <th>22003</th>\n",
       "      <td>60</td>\n",
       "      <td>58</td>\n",
       "      <td>54</td>\n",
       "      <td>61</td>\n",
       "      <td>54</td>\n",
       "      <td>57</td>\n",
       "      <td>64</td>\n",
       "      <td>62</td>\n",
       "      <td>72</td>\n",
       "      <td>63</td>\n",
       "      <td>72</td>\n",
       "      <td>76</td>\n",
       "    </tr>\n",
       "    <tr>\n",
       "      <th>22004</th>\n",
       "      <td>99</td>\n",
       "      <td>95</td>\n",
       "      <td>96</td>\n",
       "      <td>93</td>\n",
       "      <td>97</td>\n",
       "      <td>89</td>\n",
       "      <td>92</td>\n",
       "      <td>98</td>\n",
       "      <td>91</td>\n",
       "      <td>98</td>\n",
       "      <td>95</td>\n",
       "      <td>88</td>\n",
       "    </tr>\n",
       "  </tbody>\n",
       "</table>\n",
       "</div>"
      ],
      "text/plain": [
       "            Test_1  Test_2  Test_3  Test_4  Test_5  Test_6  Test_7  Test_8  \\\n",
       "Student_ID                                                                   \n",
       "22000           78      87      91      91      88      98      94     100   \n",
       "22001           79      71      81      72      73      68      59      69   \n",
       "22002           66      65      70      74      78      86      87      96   \n",
       "22003           60      58      54      61      54      57      64      62   \n",
       "22004           99      95      96      93      97      89      92      98   \n",
       "\n",
       "            Test_9  Test_10  Test_11  Test_12  \n",
       "Student_ID                                     \n",
       "22000          100      100      100       93  \n",
       "22001           59       60       61       67  \n",
       "22002           88       82       90       86  \n",
       "22003           72       63       72       76  \n",
       "22004           91       98       95       88  "
      ]
     },
     "execution_count": 52,
     "metadata": {},
     "output_type": "execute_result"
    }
   ],
   "source": [
    "df = pd.read_csv (\"student_marks.csv\", index_col=\"Student_ID\")\n",
    "\n",
    "df.head()"
   ]
  },
  {
   "cell_type": "markdown",
   "metadata": {},
   "source": [
    "### Check for number of `Null Values`, `Columns` and `Rows`\n",
    "### - Rename variable df to no_null_df"
   ]
  },
  {
   "cell_type": "code",
   "execution_count": 53,
   "metadata": {},
   "outputs": [
    {
     "name": "stdout",
     "output_type": "stream",
     "text": [
      "<class 'pandas.core.frame.DataFrame'>\n",
      "Int64Index: 56 entries, 22000 to 22055\n",
      "Data columns (total 12 columns):\n",
      " #   Column   Non-Null Count  Dtype\n",
      "---  ------   --------------  -----\n",
      " 0   Test_1   56 non-null     int64\n",
      " 1   Test_2   56 non-null     int64\n",
      " 2   Test_3   56 non-null     int64\n",
      " 3   Test_4   56 non-null     int64\n",
      " 4   Test_5   56 non-null     int64\n",
      " 5   Test_6   56 non-null     int64\n",
      " 6   Test_7   56 non-null     int64\n",
      " 7   Test_8   56 non-null     int64\n",
      " 8   Test_9   56 non-null     int64\n",
      " 9   Test_10  56 non-null     int64\n",
      " 10  Test_11  56 non-null     int64\n",
      " 11  Test_12  56 non-null     int64\n",
      "dtypes: int64(12)\n",
      "memory usage: 5.7 KB\n"
     ]
    }
   ],
   "source": [
    "df.info()\n",
    "no_null_df = df"
   ]
  },
  {
   "cell_type": "markdown",
   "metadata": {},
   "source": [
    "### Check null-free data frame for any `Duplicates Rows` and sort\n",
    "#### Rename no_null_df variable with no_dup_df once all duplicates-if any-have been dropped"
   ]
  },
  {
   "cell_type": "code",
   "execution_count": 54,
   "metadata": {},
   "outputs": [],
   "source": [
    "no_null_df.duplicated().sort_values()\n",
    "no_dup_df = no_null_df"
   ]
  },
  {
   "cell_type": "markdown",
   "metadata": {},
   "source": [
    "### Calculate descriptive statistics as variable `descript_stats variable`"
   ]
  },
  {
   "cell_type": "code",
   "execution_count": 55,
   "metadata": {},
   "outputs": [
    {
     "data": {
      "text/html": [
       "<div>\n",
       "<style scoped>\n",
       "    .dataframe tbody tr th:only-of-type {\n",
       "        vertical-align: middle;\n",
       "    }\n",
       "\n",
       "    .dataframe tbody tr th {\n",
       "        vertical-align: top;\n",
       "    }\n",
       "\n",
       "    .dataframe thead th {\n",
       "        text-align: right;\n",
       "    }\n",
       "</style>\n",
       "<table border=\"1\" class=\"dataframe\">\n",
       "  <thead>\n",
       "    <tr style=\"text-align: right;\">\n",
       "      <th></th>\n",
       "      <th>Test_1</th>\n",
       "      <th>Test_2</th>\n",
       "      <th>Test_3</th>\n",
       "      <th>Test_4</th>\n",
       "      <th>Test_5</th>\n",
       "      <th>Test_6</th>\n",
       "      <th>Test_7</th>\n",
       "      <th>Test_8</th>\n",
       "      <th>Test_9</th>\n",
       "      <th>Test_10</th>\n",
       "      <th>Test_11</th>\n",
       "      <th>Test_12</th>\n",
       "    </tr>\n",
       "  </thead>\n",
       "  <tbody>\n",
       "    <tr>\n",
       "      <th>count</th>\n",
       "      <td>56.000000</td>\n",
       "      <td>56.000000</td>\n",
       "      <td>56.000000</td>\n",
       "      <td>56.000000</td>\n",
       "      <td>56.000000</td>\n",
       "      <td>56.000000</td>\n",
       "      <td>56.000000</td>\n",
       "      <td>56.000000</td>\n",
       "      <td>56.000000</td>\n",
       "      <td>56.000000</td>\n",
       "      <td>56.000000</td>\n",
       "      <td>56.000000</td>\n",
       "    </tr>\n",
       "    <tr>\n",
       "      <th>mean</th>\n",
       "      <td>70.750000</td>\n",
       "      <td>69.196429</td>\n",
       "      <td>68.089286</td>\n",
       "      <td>67.446429</td>\n",
       "      <td>67.303571</td>\n",
       "      <td>66.000000</td>\n",
       "      <td>66.160714</td>\n",
       "      <td>65.303571</td>\n",
       "      <td>64.392857</td>\n",
       "      <td>64.250000</td>\n",
       "      <td>64.517857</td>\n",
       "      <td>65.928571</td>\n",
       "    </tr>\n",
       "    <tr>\n",
       "      <th>std</th>\n",
       "      <td>17.009356</td>\n",
       "      <td>17.712266</td>\n",
       "      <td>18.838333</td>\n",
       "      <td>19.807179</td>\n",
       "      <td>20.746890</td>\n",
       "      <td>21.054043</td>\n",
       "      <td>21.427914</td>\n",
       "      <td>22.728372</td>\n",
       "      <td>23.211814</td>\n",
       "      <td>22.598673</td>\n",
       "      <td>22.610529</td>\n",
       "      <td>22.464402</td>\n",
       "    </tr>\n",
       "    <tr>\n",
       "      <th>min</th>\n",
       "      <td>40.000000</td>\n",
       "      <td>34.000000</td>\n",
       "      <td>35.000000</td>\n",
       "      <td>28.000000</td>\n",
       "      <td>26.000000</td>\n",
       "      <td>29.000000</td>\n",
       "      <td>26.000000</td>\n",
       "      <td>19.000000</td>\n",
       "      <td>9.000000</td>\n",
       "      <td>12.000000</td>\n",
       "      <td>19.000000</td>\n",
       "      <td>20.000000</td>\n",
       "    </tr>\n",
       "    <tr>\n",
       "      <th>25%</th>\n",
       "      <td>57.750000</td>\n",
       "      <td>55.750000</td>\n",
       "      <td>53.000000</td>\n",
       "      <td>54.500000</td>\n",
       "      <td>53.750000</td>\n",
       "      <td>50.250000</td>\n",
       "      <td>47.000000</td>\n",
       "      <td>45.750000</td>\n",
       "      <td>44.000000</td>\n",
       "      <td>45.750000</td>\n",
       "      <td>46.750000</td>\n",
       "      <td>46.750000</td>\n",
       "    </tr>\n",
       "    <tr>\n",
       "      <th>50%</th>\n",
       "      <td>70.500000</td>\n",
       "      <td>68.500000</td>\n",
       "      <td>70.000000</td>\n",
       "      <td>71.500000</td>\n",
       "      <td>69.000000</td>\n",
       "      <td>65.500000</td>\n",
       "      <td>64.000000</td>\n",
       "      <td>67.500000</td>\n",
       "      <td>65.500000</td>\n",
       "      <td>65.500000</td>\n",
       "      <td>64.000000</td>\n",
       "      <td>67.500000</td>\n",
       "    </tr>\n",
       "    <tr>\n",
       "      <th>75%</th>\n",
       "      <td>84.000000</td>\n",
       "      <td>83.250000</td>\n",
       "      <td>85.000000</td>\n",
       "      <td>84.000000</td>\n",
       "      <td>85.250000</td>\n",
       "      <td>83.750000</td>\n",
       "      <td>85.250000</td>\n",
       "      <td>83.250000</td>\n",
       "      <td>84.250000</td>\n",
       "      <td>83.250000</td>\n",
       "      <td>84.000000</td>\n",
       "      <td>86.500000</td>\n",
       "    </tr>\n",
       "    <tr>\n",
       "      <th>max</th>\n",
       "      <td>100.000000</td>\n",
       "      <td>100.000000</td>\n",
       "      <td>100.000000</td>\n",
       "      <td>100.000000</td>\n",
       "      <td>100.000000</td>\n",
       "      <td>100.000000</td>\n",
       "      <td>100.000000</td>\n",
       "      <td>100.000000</td>\n",
       "      <td>100.000000</td>\n",
       "      <td>100.000000</td>\n",
       "      <td>100.000000</td>\n",
       "      <td>100.000000</td>\n",
       "    </tr>\n",
       "  </tbody>\n",
       "</table>\n",
       "</div>"
      ],
      "text/plain": [
       "           Test_1      Test_2      Test_3      Test_4      Test_5      Test_6  \\\n",
       "count   56.000000   56.000000   56.000000   56.000000   56.000000   56.000000   \n",
       "mean    70.750000   69.196429   68.089286   67.446429   67.303571   66.000000   \n",
       "std     17.009356   17.712266   18.838333   19.807179   20.746890   21.054043   \n",
       "min     40.000000   34.000000   35.000000   28.000000   26.000000   29.000000   \n",
       "25%     57.750000   55.750000   53.000000   54.500000   53.750000   50.250000   \n",
       "50%     70.500000   68.500000   70.000000   71.500000   69.000000   65.500000   \n",
       "75%     84.000000   83.250000   85.000000   84.000000   85.250000   83.750000   \n",
       "max    100.000000  100.000000  100.000000  100.000000  100.000000  100.000000   \n",
       "\n",
       "           Test_7      Test_8      Test_9     Test_10     Test_11     Test_12  \n",
       "count   56.000000   56.000000   56.000000   56.000000   56.000000   56.000000  \n",
       "mean    66.160714   65.303571   64.392857   64.250000   64.517857   65.928571  \n",
       "std     21.427914   22.728372   23.211814   22.598673   22.610529   22.464402  \n",
       "min     26.000000   19.000000    9.000000   12.000000   19.000000   20.000000  \n",
       "25%     47.000000   45.750000   44.000000   45.750000   46.750000   46.750000  \n",
       "50%     64.000000   67.500000   65.500000   65.500000   64.000000   67.500000  \n",
       "75%     85.250000   83.250000   84.250000   83.250000   84.000000   86.500000  \n",
       "max    100.000000  100.000000  100.000000  100.000000  100.000000  100.000000  "
      ]
     },
     "execution_count": 55,
     "metadata": {},
     "output_type": "execute_result"
    }
   ],
   "source": [
    "descript_stats = no_dup_df.describe()\n",
    "descript_stats"
   ]
  },
  {
   "cell_type": "markdown",
   "metadata": {},
   "source": [
    "Import "
   ]
  },
  {
   "cell_type": "markdown",
   "metadata": {},
   "source": [
    "### Calculate the `mean`, `Test with the highest average score` and `Test with the lowest average score` while create variables relating to each value"
   ]
  },
  {
   "cell_type": "markdown",
   "metadata": {},
   "source": [
    "#### Test(s) Mean"
   ]
  },
  {
   "cell_type": "code",
   "execution_count": 56,
   "metadata": {},
   "outputs": [
    {
     "data": {
      "text/plain": [
       "Test_1     62.001169\n",
       "Test_2     60.551087\n",
       "Test_3     60.740952\n",
       "Test_4     60.156701\n",
       "Test_5     59.756308\n",
       "Test_6     58.944255\n",
       "Test_7     58.229829\n",
       "Test_8     57.441493\n",
       "Test_9     55.794334\n",
       "Test_10    56.168584\n",
       "Test_11    57.109798\n",
       "Test_12    58.142872\n",
       "dtype: float64"
      ]
     },
     "execution_count": 56,
     "metadata": {},
     "output_type": "execute_result"
    }
   ],
   "source": [
    "test_means = descript_stats.mean()\n",
    "test_means"
   ]
  },
  {
   "cell_type": "markdown",
   "metadata": {},
   "source": [
    "#### Test with `Highest Average Score`"
   ]
  },
  {
   "cell_type": "code",
   "execution_count": 57,
   "metadata": {},
   "outputs": [
    {
     "data": {
      "text/plain": [
       "'Test_1'"
      ]
     },
     "execution_count": 57,
     "metadata": {},
     "output_type": "execute_result"
    }
   ],
   "source": [
    "highest_avg_test = test_means.idxmax()\n",
    "highest_avg_test"
   ]
  },
  {
   "cell_type": "markdown",
   "metadata": {},
   "source": [
    "#### Test with `Lowest Average Score`"
   ]
  },
  {
   "cell_type": "code",
   "execution_count": 58,
   "metadata": {},
   "outputs": [
    {
     "data": {
      "text/plain": [
       "'Test_9'"
      ]
     },
     "execution_count": 58,
     "metadata": {},
     "output_type": "execute_result"
    }
   ],
   "source": [
    "lowest_avg_test = test_means.idxmin()\n",
    "lowest_avg_test"
   ]
  },
  {
   "cell_type": "markdown",
   "metadata": {},
   "source": [
    "### Import matplotlib module to visually plot data"
   ]
  },
  {
   "cell_type": "code",
   "execution_count": 59,
   "metadata": {},
   "outputs": [],
   "source": [
    "import matplotlib.pyplot as plt"
   ]
  },
  {
   "cell_type": "markdown",
   "metadata": {},
   "source": [
    "### Visualize the distribution of scores for each test using `histograms`"
   ]
  },
  {
   "cell_type": "code",
   "execution_count": 60,
   "metadata": {},
   "outputs": [
    {
     "data": {
      "image/png": "[encoded data removed]",
      "text/plain": [
       "<Figure size 1600x1200 with 12 Axes>"
      ]
     },
     "metadata": {},
     "output_type": "display_data"
    }
   ],
   "source": [
    "fig, axes = plt.subplots(nrows=3, ncols=4, figsize=(16,12))\n",
    "\n",
    "\n",
    "for i, col in enumerate(df.columns[:]):\n",
    "    ax = axes[i // 4, i % 4]\n",
    "    df[col].plot(kind='hist', ax = ax, title = col)\n",
    "    ax.set_xlabel('Score')\n",
    "    ax.set_ylabel('Frequency')\n",
    "\n",
    "plt.tight_layout()\n",
    "plt.show()"
   ]
  },
  {
   "cell_type": "markdown",
   "metadata": {},
   "source": [
    "#### Visualize the distribution of scores for each test using `box plots`"
   ]
  },
  {
   "cell_type": "code",
   "execution_count": null,
   "metadata": {},
   "outputs": [],
   "source": [
    "fig, axes = plt.subplots(nrows=3, ncols=4, figsize=(16, 12))"
   ]
  }
 ],
 "metadata": {
  "kernelspec": {
   "display_name": "Python 3",
   "language": "python",
   "name": "python3"
  },
  "language_info": {
   "codemirror_mode": {
    "name": "ipython",
    "version": 3
   },
   "file_extension": ".py",
   "mimetype": "text/x-python",
   "name": "python",
   "nbconvert_exporter": "python",
   "pygments_lexer": "ipython3",
   "version": "3.10.11"
  },
  "orig_nbformat": 4
 },
 "nbformat": 4,
 "nbformat_minor": 2
}
