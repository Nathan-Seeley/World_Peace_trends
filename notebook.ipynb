{
 "cells": [
  {
   "attachments": {},
   "cell_type": "markdown",
   "metadata": {},
   "source": [
    "### IMPORT PANDAS\n"
   ]
  },
  {
   "cell_type": "code",
   "execution_count": 7,
   "metadata": {},
   "outputs": [],
   "source": [
    "import pandas as pd"
   ]
  },
  {
   "attachments": {},
   "cell_type": "markdown",
   "metadata": {},
   "source": [
    "### Import and store `peace_index` file into the variable df standing for dataframe"
   ]
  },
  {
   "cell_type": "code",
   "execution_count": 8,
   "metadata": {},
   "outputs": [
    {
     "data": {
      "text/html": [
       "<div>\n",
       "<style scoped>\n",
       "    .dataframe tbody tr th:only-of-type {\n",
       "        vertical-align: middle;\n",
       "    }\n",
       "\n",
       "    .dataframe tbody tr th {\n",
       "        vertical-align: top;\n",
       "    }\n",
       "\n",
       "    .dataframe thead th {\n",
       "        text-align: right;\n",
       "    }\n",
       "</style>\n",
       "<table border=\"1\" class=\"dataframe\">\n",
       "  <thead>\n",
       "    <tr style=\"text-align: right;\">\n",
       "      <th></th>\n",
       "      <th>Test_1</th>\n",
       "      <th>Test_2</th>\n",
       "      <th>Test_3</th>\n",
       "      <th>Test_4</th>\n",
       "      <th>Test_5</th>\n",
       "      <th>Test_6</th>\n",
       "      <th>Test_7</th>\n",
       "      <th>Test_8</th>\n",
       "      <th>Test_9</th>\n",
       "      <th>Test_10</th>\n",
       "      <th>Test_11</th>\n",
       "      <th>Test_12</th>\n",
       "    </tr>\n",
       "    <tr>\n",
       "      <th>Student_ID</th>\n",
       "      <th></th>\n",
       "      <th></th>\n",
       "      <th></th>\n",
       "      <th></th>\n",
       "      <th></th>\n",
       "      <th></th>\n",
       "      <th></th>\n",
       "      <th></th>\n",
       "      <th></th>\n",
       "      <th></th>\n",
       "      <th></th>\n",
       "      <th></th>\n",
       "    </tr>\n",
       "  </thead>\n",
       "  <tbody>\n",
       "    <tr>\n",
       "      <th>22000</th>\n",
       "      <td>78</td>\n",
       "      <td>87</td>\n",
       "      <td>91</td>\n",
       "      <td>91</td>\n",
       "      <td>88</td>\n",
       "      <td>98</td>\n",
       "      <td>94</td>\n",
       "      <td>100</td>\n",
       "      <td>100</td>\n",
       "      <td>100</td>\n",
       "      <td>100</td>\n",
       "      <td>93</td>\n",
       "    </tr>\n",
       "    <tr>\n",
       "      <th>22001</th>\n",
       "      <td>79</td>\n",
       "      <td>71</td>\n",
       "      <td>81</td>\n",
       "      <td>72</td>\n",
       "      <td>73</td>\n",
       "      <td>68</td>\n",
       "      <td>59</td>\n",
       "      <td>69</td>\n",
       "      <td>59</td>\n",
       "      <td>60</td>\n",
       "      <td>61</td>\n",
       "      <td>67</td>\n",
       "    </tr>\n",
       "    <tr>\n",
       "      <th>22002</th>\n",
       "      <td>66</td>\n",
       "      <td>65</td>\n",
       "      <td>70</td>\n",
       "      <td>74</td>\n",
       "      <td>78</td>\n",
       "      <td>86</td>\n",
       "      <td>87</td>\n",
       "      <td>96</td>\n",
       "      <td>88</td>\n",
       "      <td>82</td>\n",
       "      <td>90</td>\n",
       "      <td>86</td>\n",
       "    </tr>\n",
       "    <tr>\n",
       "      <th>22003</th>\n",
       "      <td>60</td>\n",
       "      <td>58</td>\n",
       "      <td>54</td>\n",
       "      <td>61</td>\n",
       "      <td>54</td>\n",
       "      <td>57</td>\n",
       "      <td>64</td>\n",
       "      <td>62</td>\n",
       "      <td>72</td>\n",
       "      <td>63</td>\n",
       "      <td>72</td>\n",
       "      <td>76</td>\n",
       "    </tr>\n",
       "    <tr>\n",
       "      <th>22004</th>\n",
       "      <td>99</td>\n",
       "      <td>95</td>\n",
       "      <td>96</td>\n",
       "      <td>93</td>\n",
       "      <td>97</td>\n",
       "      <td>89</td>\n",
       "      <td>92</td>\n",
       "      <td>98</td>\n",
       "      <td>91</td>\n",
       "      <td>98</td>\n",
       "      <td>95</td>\n",
       "      <td>88</td>\n",
       "    </tr>\n",
       "  </tbody>\n",
       "</table>\n",
       "</div>"
      ],
      "text/plain": [
       "            Test_1  Test_2  Test_3  Test_4  Test_5  Test_6  Test_7  Test_8  \\\n",
       "Student_ID                                                                   \n",
       "22000           78      87      91      91      88      98      94     100   \n",
       "22001           79      71      81      72      73      68      59      69   \n",
       "22002           66      65      70      74      78      86      87      96   \n",
       "22003           60      58      54      61      54      57      64      62   \n",
       "22004           99      95      96      93      97      89      92      98   \n",
       "\n",
       "            Test_9  Test_10  Test_11  Test_12  \n",
       "Student_ID                                     \n",
       "22000          100      100      100       93  \n",
       "22001           59       60       61       67  \n",
       "22002           88       82       90       86  \n",
       "22003           72       63       72       76  \n",
       "22004           91       98       95       88  "
      ]
     },
     "execution_count": 8,
     "metadata": {},
     "output_type": "execute_result"
    }
   ],
   "source": [
    "df = pd.read_csv (\"student_marks.csv\", index_col=\"Student_ID\")\n",
    "\n",
    "df.head()"
   ]
  },
  {
   "cell_type": "markdown",
   "metadata": {},
   "source": [
    "### Check for number of `Null Values`, `Columns` and `Rows`\n",
    "### - Rename variable df to no_null_df"
   ]
  },
  {
   "cell_type": "code",
   "execution_count": 9,
   "metadata": {},
   "outputs": [
    {
     "name": "stdout",
     "output_type": "stream",
     "text": [
      "<class 'pandas.core.frame.DataFrame'>\n",
      "Int64Index: 56 entries, 22000 to 22055\n",
      "Data columns (total 12 columns):\n",
      " #   Column   Non-Null Count  Dtype\n",
      "---  ------   --------------  -----\n",
      " 0   Test_1   56 non-null     int64\n",
      " 1   Test_2   56 non-null     int64\n",
      " 2   Test_3   56 non-null     int64\n",
      " 3   Test_4   56 non-null     int64\n",
      " 4   Test_5   56 non-null     int64\n",
      " 5   Test_6   56 non-null     int64\n",
      " 6   Test_7   56 non-null     int64\n",
      " 7   Test_8   56 non-null     int64\n",
      " 8   Test_9   56 non-null     int64\n",
      " 9   Test_10  56 non-null     int64\n",
      " 10  Test_11  56 non-null     int64\n",
      " 11  Test_12  56 non-null     int64\n",
      "dtypes: int64(12)\n",
      "memory usage: 5.7 KB\n"
     ]
    }
   ],
   "source": [
    "df.info()\n",
    "no_null_df = df"
   ]
  },
  {
   "cell_type": "markdown",
   "metadata": {},
   "source": [
    "### Check null-free data frame for any `Duplicates Rows`"
   ]
  },
  {
   "cell_type": "code",
   "execution_count": 10,
   "metadata": {},
   "outputs": [
    {
     "data": {
      "text/plain": [
       "Student_ID\n",
       "22000    False\n",
       "22030    False\n",
       "22031    False\n",
       "22032    False\n",
       "22033    False\n",
       "22034    False\n",
       "22035    False\n",
       "22036    False\n",
       "22037    False\n",
       "22038    False\n",
       "22039    False\n",
       "22040    False\n",
       "22029    False\n",
       "22041    False\n",
       "22043    False\n",
       "22044    False\n",
       "22045    False\n",
       "22046    False\n",
       "22047    False\n",
       "22048    False\n",
       "22049    False\n",
       "22050    False\n",
       "22051    False\n",
       "22052    False\n",
       "22053    False\n",
       "22042    False\n",
       "22028    False\n",
       "22027    False\n",
       "22026    False\n",
       "22001    False\n",
       "22002    False\n",
       "22003    False\n",
       "22004    False\n",
       "22005    False\n",
       "22006    False\n",
       "22007    False\n",
       "22008    False\n",
       "22009    False\n",
       "22010    False\n",
       "22011    False\n",
       "22012    False\n",
       "22013    False\n",
       "22014    False\n",
       "22015    False\n",
       "22016    False\n",
       "22017    False\n",
       "22018    False\n",
       "22019    False\n",
       "22020    False\n",
       "22021    False\n",
       "22022    False\n",
       "22023    False\n",
       "22024    False\n",
       "22025    False\n",
       "22054    False\n",
       "22055    False\n",
       "dtype: bool"
      ]
     },
     "execution_count": 10,
     "metadata": {},
     "output_type": "execute_result"
    }
   ],
   "source": [
    "no_null_df.duplicated().sort_values()"
   ]
  }
 ],
 "metadata": {
  "kernelspec": {
   "display_name": "Python 3",
   "language": "python",
   "name": "python3"
  },
  "language_info": {
   "codemirror_mode": {
    "name": "ipython",
    "version": 3
   },
   "file_extension": ".py",
   "mimetype": "text/x-python",
   "name": "python",
   "nbconvert_exporter": "python",
   "pygments_lexer": "ipython3",
   "version": "3.10.11"
  },
  "orig_nbformat": 4
 },
 "nbformat": 4,
 "nbformat_minor": 2
}
